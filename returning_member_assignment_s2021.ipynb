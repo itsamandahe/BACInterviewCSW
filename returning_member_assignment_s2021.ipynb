{
  "nbformat": 4,
  "nbformat_minor": 0,
  "metadata": {
    "kernelspec": {
      "display_name": "Python 3",
      "language": "python",
      "name": "python3"
    },
    "language_info": {
      "codemirror_mode": {
        "name": "ipython",
        "version": 3
      },
      "file_extension": ".py",
      "mimetype": "text/x-python",
      "name": "python",
      "nbconvert_exporter": "python",
      "pygments_lexer": "ipython3",
      "version": "3.7.3"
    },
    "colab": {
      "name": "returning_member_assignment_s2021.ipynb",
      "provenance": [],
      "include_colab_link": true
    }
  },
  "cells": [
    {
      "cell_type": "markdown",
      "metadata": {
        "id": "view-in-github",
        "colab_type": "text"
      },
      "source": [
        "<a href=\"https://colab.research.google.com/github/itsamandahe/BACInterviewCSW/blob/main/returning_member_assignment_s2021.ipynb\" target=\"_parent\"><img src=\"https://colab.research.google.com/assets/colab-badge.svg\" alt=\"Open In Colab\"/></a>"
      ]
    },
    {
      "cell_type": "markdown",
      "metadata": {
        "id": "zx04tkPtCJld"
      },
      "source": [
        "# Returning Member Assignment\n",
        "\n",
        "This assignment will be used to test your knowledge from the previous semester on the Insight Team. It is not meant to be tough or challenging, but rather be a reflection for you and us to see where your progress is. \n",
        "\n",
        "**Remember**, your return to the Insight Team hinges on the completion of this assignment with quality work. It doesn't have to be perfect but we do expect to see some effort and basic understanding of the concepts covered.\n",
        "\n",
        "We are here to help you as much as possible and feel free to reach out to us.\n",
        "\n",
        "**Manuela Rodriguez:** mr5340@stern.nyu.edu\n",
        "\n",
        "**Jason Liu:** jl9724@stern.nyu.edu\n",
        "\n",
        "**Due Date:** January 31, 2021 at 11:59 PM"
      ]
    },
    {
      "cell_type": "markdown",
      "metadata": {
        "id": "sDPoRyAICJli"
      },
      "source": [
        "## Data Set Information\n",
        "\n",
        "This datasets is related to red variants of the Portuguese \"Vinho Verde\" wine from 2009. The data set and its features are used to predict the quality rating of this wine. We will first predict quality through regression and then classification.\n",
        "\n",
        "### Features:\n",
        "- **Fixed Acidity:** Most acids involved with the wine (continuous)\n",
        "- **Volatile Acidity:** The amount of acetic acid in wine (continuous)\n",
        "- **Citric Acidity:** Citric acid can add freshness and flavor to wines (continuous)\n",
        "- **Residual Sugar:** The amount of sugar remaining after the fermentation stops (continuous)\n",
        "- **Chlorides:** The amount of salt in the wine (continuous)\n",
        "- **Free Sulfur Dioxide:** The free form of SO2 (continuous)\n",
        "- **Total Sulfur Dioxide:** The amount of free and bound forms of SO2 (continuous)\n",
        "- **Density:** Density of the wine (continuous)\n",
        "- **pH:** Describes how acidic or basic a wine is on a scale from 0 to 14 (continuous)\n",
        "- **Sulphates:** A wine additive which contributes to SO2 levels (continuous)\n",
        "- **Alcohol:** The percent of alcohol content in the wine (continuous)\n",
        "\n",
        "\n",
        "### Response Variable:\n",
        "- **Quality:** Output variable with a score between 0 and 10 (continuous)\n",
        "\n",
        "The data set and additional information can be found on: https://www.kaggle.com/uciml/red-wine-quality-cortez-et-al-2009.\n",
        "I advise you to read it as it gives more information about the features which will be important to your analyses."
      ]
    },
    {
      "cell_type": "markdown",
      "metadata": {
        "id": "eZ0aNUlACJlj"
      },
      "source": [
        "The task is to take the data set given to you and run a mini simulation on how you would go about tackling this dataset. It is very open-ended and up for interpretation. It will be split up into regression modeling and classification modeling.\n",
        "\n",
        "## The only required aspects are:\n",
        "1. Posing a question or prompt\n",
        "2. Doing some form of visulization\n",
        "3. Doing a linear regression model with evaluation metrics for the regression section and doing logistic regression model with evaluation metrics for the classification section\n",
        "4. Doing one higher form of modeling with evaluation metrics for both sections\n",
        "5. Writing a quick summary on what insights you came up with and why you chose the path you took to tackle the data set (Explain your work)\n",
        "\n",
        "The cells below are what you have to complete but feel free to add more and do whatever helps you create a better analysis of the data set"
      ]
    },
    {
      "cell_type": "code",
      "metadata": {
        "id": "jkKQz2WJCJlj"
      },
      "source": [
        "# First we need to import all packages, you can just run this cell\n",
        "# This should be everything you will need but feel free to put in more\n",
        "import pandas as pd\n",
        "import numpy as np\n",
        "from sklearn import tree\n",
        "from sklearn.model_selection import train_test_split\n",
        "from sklearn import metrics\n",
        "from sklearn.model_selection import cross_validate\n",
        "from sklearn.model_selection import cross_val_score\n",
        "from sklearn.metrics import confusion_matrix\n",
        "from sklearn.metrics import precision_score\n",
        "from sklearn.metrics import accuracy_score\n",
        "from sklearn.metrics import roc_auc_score\n",
        "from sklearn.metrics import roc_curve, auc\n",
        "from sklearn.preprocessing import label_binarize\n",
        "from sklearn.preprocessing import StandardScaler\n",
        "import scipy.stats as stats\n",
        "from scipy import interp\n",
        "from itertools import cycle\n",
        "\n",
        "# Models\n",
        "from sklearn.linear_model import LinearRegression\n",
        "from sklearn.linear_model import LogisticRegression\n",
        "from sklearn.tree import DecisionTreeClassifier, DecisionTreeRegressor\n",
        "from sklearn.ensemble import RandomForestClassifier, RandomForestRegressor\n",
        "from sklearn.model_selection import GridSearchCV\n",
        "from sklearn.svm import SVC, SVR\n",
        "from sklearn.naive_bayes import GaussianNB\n",
        "from sklearn.naive_bayes import MultinomialNB\n",
        "from sklearn.neural_network import MLPClassifier, MLPRegressor\n",
        "\n",
        "# visualization\n",
        "%matplotlib inline\n",
        "import seaborn as sns\n",
        "import matplotlib.pyplot as plt"
      ],
      "execution_count": 77,
      "outputs": []
    },
    {
      "cell_type": "code",
      "metadata": {
        "colab": {
          "base_uri": "https://localhost:8080/"
        },
        "id": "US6gt9iXCJlk",
        "outputId": "73b2b4fc-71e4-4c4a-dc1a-284cd50046eb"
      },
      "source": [
        "# Read data into a DataFrame\n",
        "# You can change the file name as needed\n",
        "\n",
        "url = \"https://raw.githubusercontent.com/itsamandahe/BACInterviewCSW/main/redwine.csv\"\n",
        "df = pd.read_csv(url)\n",
        "print(data.dtypes)\n",
        "print(data.head())\n",
        "print(data.shape)"
      ],
      "execution_count": 78,
      "outputs": [
        {
          "output_type": "stream",
          "text": [
            "fixed acidity           float64\n",
            "volatile acidity        float64\n",
            "citric acid             float64\n",
            "residual sugar          float64\n",
            "chlorides               float64\n",
            "free sulfur dioxide     float64\n",
            "total sulfur dioxide    float64\n",
            "density                 float64\n",
            "pH                      float64\n",
            "sulphates               float64\n",
            "alcohol                 float64\n",
            "quality                   int64\n",
            "dtype: object\n",
            "   fixed acidity  volatile acidity  citric acid  ...  sulphates  alcohol  quality\n",
            "0            7.4              0.70         0.00  ...       0.56      9.4        5\n",
            "1            7.8              0.88         0.00  ...       0.68      9.8        5\n",
            "2            7.8              0.76         0.04  ...       0.65      9.8        5\n",
            "3           11.2              0.28         0.56  ...       0.58      9.8        6\n",
            "4            7.4              0.70         0.00  ...       0.56      9.4        5\n",
            "\n",
            "[5 rows x 12 columns]\n",
            "(1599, 12)\n"
          ],
          "name": "stdout"
        }
      ]
    },
    {
      "cell_type": "markdown",
      "metadata": {
        "id": "WjyGNG3hCJlk"
      },
      "source": [
        "Create a question or prompt in the cell underneath that you would like to solve by using this data set.\n",
        "\n",
        "When you are done writing in the cell underneath, run the cell or press shift+enter (shift+return for Macs)"
      ]
    },
    {
      "cell_type": "markdown",
      "metadata": {
        "id": "go7jC70yCJlk"
      },
      "source": [
        "Enter Answer Here:\r\n",
        "\r\n",
        "Often, most wine consumers have little knowledge of wine quality based on brand and appearance alone. Thus, there is a need for a tool that can help predict the quality of wine based on its features.\r\n",
        "\r\n",
        "In short, the question is \"how does the features listed in the prompt correlate with wine quality?\""
      ]
    },
    {
      "cell_type": "markdown",
      "metadata": {
        "id": "EYfJ4OBiCJll"
      },
      "source": [
        "# Data Manipulation and Visualization"
      ]
    },
    {
      "cell_type": "code",
      "metadata": {
        "id": "A8IWwjrkCJll"
      },
      "source": [
        "# Create your features variable and response variable\n",
        "feature_col = df.columns[:-1].tolist()\n",
        "X = df[feature_col] \n",
        "y = df.quality\n"
      ],
      "execution_count": 80,
      "outputs": []
    },
    {
      "cell_type": "code",
      "metadata": {
        "colab": {
          "base_uri": "https://localhost:8080/",
          "height": 371
        },
        "id": "l08YBaCcCJll",
        "outputId": "d0cf4303-eb16-4e6f-9f4e-96ed13050a1c"
      },
      "source": [
        "# Do some visualizations to better understand the data\n",
        "# Take multiple cells if you need it\n",
        "\n",
        "sns.heatmap(df.corr())"
      ],
      "execution_count": 81,
      "outputs": [
        {
          "output_type": "execute_result",
          "data": {
            "text/plain": [
              "<matplotlib.axes._subplots.AxesSubplot at 0x7f419c4329e8>"
            ]
          },
          "metadata": {
            "tags": []
          },
          "execution_count": 81
        },
        {
          "output_type": "display_data",
          "data": {
            "image/png": "[encoded data removed]",
            "text/plain": [
              "<Figure size 432x288 with 2 Axes>"
            ]
          },
          "metadata": {
            "tags": [],
            "needs_background": "light"
          }
        }
      ]
    },
    {
      "cell_type": "code",
      "metadata": {
        "id": "Mxi9cPOzhzEd"
      },
      "source": [
        "# 2 more graphs etc"
      ],
      "execution_count": 106,
      "outputs": []
    },
    {
      "cell_type": "code",
      "metadata": {
        "id": "NiHNNZ0mhzPb"
      },
      "source": [
        ""
      ],
      "execution_count": null,
      "outputs": []
    },
    {
      "cell_type": "markdown",
      "metadata": {
        "id": "augPLlxkCJll"
      },
      "source": [
        "# Regression Modeling Section\n",
        "## Linear Regression"
      ]
    },
    {
      "cell_type": "code",
      "metadata": {
        "colab": {
          "base_uri": "https://localhost:8080/"
        },
        "id": "4N8p-9eFCJlm",
        "outputId": "6230b744-e989-4e0c-b96c-3c82441fb3fb"
      },
      "source": [
        "# Create your linear regression model and fit the X and y data frames to it\n",
        "# You may add any hyperparameters you want to the model\n",
        "\n",
        "# Use all predicting variables in this model for now\n",
        "linreg = LinearRegression()\n",
        "linreg.fit(X, y)"
      ],
      "execution_count": 83,
      "outputs": [
        {
          "output_type": "execute_result",
          "data": {
            "text/plain": [
              "LinearRegression(copy_X=True, fit_intercept=True, n_jobs=None, normalize=False)"
            ]
          },
          "metadata": {
            "tags": []
          },
          "execution_count": 83
        }
      ]
    },
    {
      "cell_type": "code",
      "metadata": {
        "colab": {
          "base_uri": "https://localhost:8080/",
          "height": 438
        },
        "id": "f7zWvvquCJlm",
        "outputId": "a92e8bb3-66c7-486f-d4ff-913c4b87e432"
      },
      "source": [
        "#Print out R^2, MSE, intercept, all coefficients, and any other evaluation metrics that you think are necessary\n",
        "\n",
        "# R^2\n",
        "y_pred = linreg.predict(X)\n",
        "print(\"R^2: \", metrics.r2_score(y, y_pred))\n",
        "\n",
        "# MSE\n",
        "print(\"MSE: \", metrics.mean_squared_error(y, y_pred))\n",
        "\n",
        "# intercept\n",
        "print(\"The y intercept:\", linreg.intercept_)\n",
        "\n",
        "# coefficients\n",
        "coefficients = pd.DataFrame({'feature':feature_col, \n",
        "              'coefficient':linreg.coef_}).sort_values(by='coefficient',ascending=False)\n",
        "\n",
        "coefficients"
      ],
      "execution_count": 84,
      "outputs": [
        {
          "output_type": "stream",
          "text": [
            "R^2:  0.3605517030386882\n",
            "MSE:  0.416767167221408\n",
            "The y intercept: 21.965208449448525\n"
          ],
          "name": "stdout"
        },
        {
          "output_type": "execute_result",
          "data": {
            "text/html": [
              "<div>\n",
              "<style scoped>\n",
              "    .dataframe tbody tr th:only-of-type {\n",
              "        vertical-align: middle;\n",
              "    }\n",
              "\n",
              "    .dataframe tbody tr th {\n",
              "        vertical-align: top;\n",
              "    }\n",
              "\n",
              "    .dataframe thead th {\n",
              "        text-align: right;\n",
              "    }\n",
              "</style>\n",
              "<table border=\"1\" class=\"dataframe\">\n",
              "  <thead>\n",
              "    <tr style=\"text-align: right;\">\n",
              "      <th></th>\n",
              "      <th>feature</th>\n",
              "      <th>coefficient</th>\n",
              "    </tr>\n",
              "  </thead>\n",
              "  <tbody>\n",
              "    <tr>\n",
              "      <th>9</th>\n",
              "      <td>sulphates</td>\n",
              "      <td>0.916334</td>\n",
              "    </tr>\n",
              "    <tr>\n",
              "      <th>10</th>\n",
              "      <td>alcohol</td>\n",
              "      <td>0.276198</td>\n",
              "    </tr>\n",
              "    <tr>\n",
              "      <th>0</th>\n",
              "      <td>fixed acidity</td>\n",
              "      <td>0.024991</td>\n",
              "    </tr>\n",
              "    <tr>\n",
              "      <th>3</th>\n",
              "      <td>residual sugar</td>\n",
              "      <td>0.016331</td>\n",
              "    </tr>\n",
              "    <tr>\n",
              "      <th>5</th>\n",
              "      <td>free sulfur dioxide</td>\n",
              "      <td>0.004361</td>\n",
              "    </tr>\n",
              "    <tr>\n",
              "      <th>6</th>\n",
              "      <td>total sulfur dioxide</td>\n",
              "      <td>-0.003265</td>\n",
              "    </tr>\n",
              "    <tr>\n",
              "      <th>2</th>\n",
              "      <td>citric acid</td>\n",
              "      <td>-0.182564</td>\n",
              "    </tr>\n",
              "    <tr>\n",
              "      <th>8</th>\n",
              "      <td>pH</td>\n",
              "      <td>-0.413653</td>\n",
              "    </tr>\n",
              "    <tr>\n",
              "      <th>1</th>\n",
              "      <td>volatile acidity</td>\n",
              "      <td>-1.083590</td>\n",
              "    </tr>\n",
              "    <tr>\n",
              "      <th>4</th>\n",
              "      <td>chlorides</td>\n",
              "      <td>-1.874225</td>\n",
              "    </tr>\n",
              "    <tr>\n",
              "      <th>7</th>\n",
              "      <td>density</td>\n",
              "      <td>-17.881164</td>\n",
              "    </tr>\n",
              "  </tbody>\n",
              "</table>\n",
              "</div>"
            ],
            "text/plain": [
              "                 feature  coefficient\n",
              "9              sulphates     0.916334\n",
              "10               alcohol     0.276198\n",
              "0          fixed acidity     0.024991\n",
              "3         residual sugar     0.016331\n",
              "5    free sulfur dioxide     0.004361\n",
              "6   total sulfur dioxide    -0.003265\n",
              "2            citric acid    -0.182564\n",
              "8                     pH    -0.413653\n",
              "1       volatile acidity    -1.083590\n",
              "4              chlorides    -1.874225\n",
              "7                density   -17.881164"
            ]
          },
          "metadata": {
            "tags": []
          },
          "execution_count": 84
        }
      ]
    },
    {
      "cell_type": "markdown",
      "metadata": {
        "id": "6K-918LaCJlm"
      },
      "source": [
        "What do the coefficients mean? Explain and use one of the features as an example to explain coefficients.\n",
        "\n",
        "When you are done writing in the cell underneath, run the cell or press shift+enter (shift+return for Macs)"
      ]
    },
    {
      "cell_type": "markdown",
      "metadata": {
        "id": "1FCQBgXmCJlm"
      },
      "source": [
        "Enter Answer Here: The coefficients indicate the correlation between each predictor variable and the dependent variable. For example, volatile acidity has a coefficient of -1.08. It means that holding all other predictor variables constant, when volatile acidity increases by 1, the wine quality rating decreases by 1.08"
      ]
    },
    {
      "cell_type": "code",
      "metadata": {
        "id": "CHOdSuYACJlm"
      },
      "source": [
        "# Take the features with the 4 highest coefficients and create a X_feat data frame\n",
        "\n",
        "# taking the features with the highest ABSOLUTE VALUE coefficients because higher abs value indicate a higher correlation\n",
        "\n",
        "X_feat_columns = ['volatile acidity', 'chlorides', 'density', 'sulphates']\n",
        "X_feat = df[X_feat_columns]"
      ],
      "execution_count": 85,
      "outputs": []
    },
    {
      "cell_type": "code",
      "metadata": {
        "colab": {
          "base_uri": "https://localhost:8080/"
        },
        "id": "tZo0hNTLCJln",
        "outputId": "da82eeb8-2c16-4cc7-f0a9-502fce2a6329"
      },
      "source": [
        "# Create your linear regression model and fit the variables to it\n",
        "# You may add any hyperparameters you want to the model\n",
        "\n",
        "linreg2 = LinearRegression()\n",
        "linreg2.fit(X_feat, y)"
      ],
      "execution_count": 86,
      "outputs": [
        {
          "output_type": "execute_result",
          "data": {
            "text/plain": [
              "LinearRegression(copy_X=True, fit_intercept=True, n_jobs=None, normalize=False)"
            ]
          },
          "metadata": {
            "tags": []
          },
          "execution_count": 86
        }
      ]
    },
    {
      "cell_type": "code",
      "metadata": {
        "colab": {
          "base_uri": "https://localhost:8080/",
          "height": 223
        },
        "id": "LCwq0-_zCJln",
        "outputId": "12198a2d-e259-482b-d73f-d8aa46e408a6"
      },
      "source": [
        "# Print out R^2, MSE, intercept, all coefficients, and any other evaluation metrics that you think are necessary\n",
        "\n",
        "# R^2\n",
        "y_pred2 = linreg2.predict(X_feat)\n",
        "print(\"R^2: \", metrics.r2_score(y, y_pred2))\n",
        "\n",
        "# MSE\n",
        "print(\"MSE: \", metrics.mean_squared_error(y, y_pred2))\n",
        "\n",
        "# intercept\n",
        "print(\"The y intercept:\", linreg2.intercept_)\n",
        "\n",
        "# coefficients\n",
        "coefficients2 = pd.DataFrame({'feature':X_feat_columns, \n",
        "              'coefficient':linreg2.coef_}).sort_values(by='coefficient',ascending=False)\n",
        "\n",
        "coefficients2"
      ],
      "execution_count": 87,
      "outputs": [
        {
          "output_type": "stream",
          "text": [
            "R^2:  0.23818345201154623\n",
            "MSE:  0.49652196456901226\n",
            "The y intercept: 79.28422306629794\n"
          ],
          "name": "stdout"
        },
        {
          "output_type": "execute_result",
          "data": {
            "text/html": [
              "<div>\n",
              "<style scoped>\n",
              "    .dataframe tbody tr th:only-of-type {\n",
              "        vertical-align: middle;\n",
              "    }\n",
              "\n",
              "    .dataframe tbody tr th {\n",
              "        vertical-align: top;\n",
              "    }\n",
              "\n",
              "    .dataframe thead th {\n",
              "        text-align: right;\n",
              "    }\n",
              "</style>\n",
              "<table border=\"1\" class=\"dataframe\">\n",
              "  <thead>\n",
              "    <tr style=\"text-align: right;\">\n",
              "      <th></th>\n",
              "      <th>feature</th>\n",
              "      <th>coefficient</th>\n",
              "    </tr>\n",
              "  </thead>\n",
              "  <tbody>\n",
              "    <tr>\n",
              "      <th>3</th>\n",
              "      <td>sulphates</td>\n",
              "      <td>1.240811</td>\n",
              "    </tr>\n",
              "    <tr>\n",
              "      <th>0</th>\n",
              "      <td>volatile acidity</td>\n",
              "      <td>-1.390176</td>\n",
              "    </tr>\n",
              "    <tr>\n",
              "      <th>1</th>\n",
              "      <td>chlorides</td>\n",
              "      <td>-2.953688</td>\n",
              "    </tr>\n",
              "    <tr>\n",
              "      <th>2</th>\n",
              "      <td>density</td>\n",
              "      <td>-73.712537</td>\n",
              "    </tr>\n",
              "  </tbody>\n",
              "</table>\n",
              "</div>"
            ],
            "text/plain": [
              "            feature  coefficient\n",
              "3         sulphates     1.240811\n",
              "0  volatile acidity    -1.390176\n",
              "1         chlorides    -2.953688\n",
              "2           density   -73.712537"
            ]
          },
          "metadata": {
            "tags": []
          },
          "execution_count": 87
        }
      ]
    },
    {
      "cell_type": "markdown",
      "metadata": {
        "id": "m3pJ1ugSCJln"
      },
      "source": [
        "Does your model with only 4 features do worse or better than the model with all the features? Why is that?\n",
        "\n",
        "When you are done writing in the cell underneath, run the cell or press shift+enter (shift+return for Macs)"
      ]
    },
    {
      "cell_type": "markdown",
      "metadata": {
        "id": "F5bBEhhKCJln"
      },
      "source": [
        "Enter Answer Here: The model with all features did better in the sense that it had a smaller MSE, meaning that the squared difference between predicted and actual y variables are smaller. Theoretically, a higher R^2 is better and the model with all features had a higher R^2. But I am careful to use R^2 as a measure of which model did better because in linear models, a higher number of features always leads to a higher R^2. In this case, I would be concerned about overfitting occuring in the model with all features. To resolve this, I would run a test-train split to test my hypothesis."
      ]
    },
    {
      "cell_type": "markdown",
      "metadata": {
        "id": "oKduORdMCJlo"
      },
      "source": [
        "## Another Regression Model"
      ]
    },
    {
      "cell_type": "code",
      "metadata": {
        "id": "otYN9i5xCJlo"
      },
      "source": [
        "# Train/test split your X and y data frames\n"
      ],
      "execution_count": 88,
      "outputs": []
    },
    {
      "cell_type": "code",
      "metadata": {
        "id": "rPPQeAKqCJlo"
      },
      "source": [
        "# Create another regression model and fit the variables to it\n"
      ],
      "execution_count": 89,
      "outputs": []
    },
    {
      "cell_type": "code",
      "metadata": {
        "id": "MajwR8i1CJlo"
      },
      "source": [
        "# Print out evaluation metrics that you think are necessary\n"
      ],
      "execution_count": 90,
      "outputs": []
    },
    {
      "cell_type": "markdown",
      "metadata": {
        "id": "17tmgJU6CJlo"
      },
      "source": [
        "What did you notice different between your chosen model and the linear regression? Why is that?\n",
        "\n",
        "When you are done writing in the cell underneath, run the cell or press shift+enter (shift+return for Macs)"
      ]
    },
    {
      "cell_type": "markdown",
      "metadata": {
        "id": "RncfWldHCJlo"
      },
      "source": [
        "Enter Answer Here:"
      ]
    },
    {
      "cell_type": "markdown",
      "metadata": {
        "id": "UkUwSfqMCJlo"
      },
      "source": [
        "# Classification Modeling Section\n",
        "## Turning the Data Set into Classification Data"
      ]
    },
    {
      "cell_type": "markdown",
      "metadata": {
        "id": "B5RcjKq8CJlp"
      },
      "source": [
        "Since y is a continuous variable, you will need to turn it into a categorical variable in order to use it for classification. We need to create a y_class data frame from y. So anything that is 0-3 will be notated as 0 for poor, anything between 3.01-7 is 1 for okay, and 7.01-10 is 2 for great.\n",
        "\n",
        "So if the quality for one of the rows is 4.3, then the new y_class dataframe should say 1 (meaning okay) as it is between 3.01-7."
      ]
    },
    {
      "cell_type": "code",
      "metadata": {
        "colab": {
          "base_uri": "https://localhost:8080/"
        },
        "id": "4W8ikhe3CJlp",
        "outputId": "293eb2ef-68bc-4282-9934-b287bd4a9bd9"
      },
      "source": [
        "# Since quality is an integer, we can do a simple replace for the values\n",
        "\n",
        "df['quality_class'] = df['quality'].replace({3:0, 2:0, 1:0})\n",
        "df['quality_class'] = df['quality'].replace({4:1, 5:1, 6:1})\n",
        "df['quality_class'] = df['quality'].replace({7:2, 8:2, 9:2})\n",
        "\n",
        "y_class = df.quality_class\n",
        "\n",
        "df['quality_class'].value_counts()"
      ],
      "execution_count": 98,
      "outputs": [
        {
          "output_type": "execute_result",
          "data": {
            "text/plain": [
              "1    1372\n",
              "2     217\n",
              "0      10\n",
              "Name: quality_class, dtype: int64"
            ]
          },
          "metadata": {
            "tags": []
          },
          "execution_count": 98
        }
      ]
    },
    {
      "cell_type": "markdown",
      "metadata": {
        "id": "PoT-s9WUCJlp"
      },
      "source": [
        "## Logistic Regression"
      ]
    },
    {
      "cell_type": "code",
      "metadata": {
        "id": "1z27-OERCJlp"
      },
      "source": [
        "# Train/test split your data based on your X and y_class data frames\n",
        "\n",
        "X_train, X_test, y_train, y_test = train_test_split(X, y_class, test_size=0.3)\n"
      ],
      "execution_count": 100,
      "outputs": []
    },
    {
      "cell_type": "code",
      "metadata": {
        "colab": {
          "base_uri": "https://localhost:8080/"
        },
        "id": "8YEMzt15CJlp",
        "outputId": "21a9d749-43a4-40ec-b729-1283ab26d5d9"
      },
      "source": [
        "# Create your logistic regression model and fit the variables to it\n",
        "\n",
        "lr = LogisticRegression(C=1e9)\n",
        "lr.fit(X_train,y_train)\n",
        "y_test_pred = lr.predict(X_test)"
      ],
      "execution_count": 109,
      "outputs": [
        {
          "output_type": "stream",
          "text": [
            "/usr/local/lib/python3.6/dist-packages/sklearn/linear_model/_logistic.py:940: ConvergenceWarning: lbfgs failed to converge (status=1):\n",
            "STOP: TOTAL NO. of ITERATIONS REACHED LIMIT.\n",
            "\n",
            "Increase the number of iterations (max_iter) or scale the data as shown in:\n",
            "    https://scikit-learn.org/stable/modules/preprocessing.html\n",
            "Please also refer to the documentation for alternative solver options:\n",
            "    https://scikit-learn.org/stable/modules/linear_model.html#logistic-regression\n",
            "  extra_warning_msg=_LOGISTIC_SOLVER_CONVERGENCE_MSG)\n"
          ],
          "name": "stderr"
        }
      ]
    },
    {
      "cell_type": "code",
      "metadata": {
        "colab": {
          "base_uri": "https://localhost:8080/",
          "height": 421
        },
        "id": "GyomHiTpCJlp",
        "outputId": "66cf48c8-bfe8-4e1e-83b7-2840f92ece32"
      },
      "source": [
        "# Print out evaluation metrics that you think are necessary\n",
        "# Include the intercept and coefficients\n",
        "\n",
        "print(\"Test set accuracy of LR model: \", metrics.accuracy_score(y_test, y_test_pred))\n",
        "\n",
        "print(\"The y intercept:\", lr.intercept_)\n",
        "\n",
        "# coefficients\n",
        "df_lr_coef = pd.DataFrame(lr.coef_)\n",
        "df_lr_coef = pd.DataFrame.transpose(df_lr_coef)\n",
        "columns = pd.DataFrame(df.columns[:-2])\n",
        "# df_lr_coef = df_lr_coef.add(columns)\n",
        "\n",
        "# features 1, 8, 9 seems to have the most signficant impact on wine quality\n",
        "# followed by feature 7 & 10, then by features 2 & 4\n",
        "df_lr_coef"
      ],
      "execution_count": 144,
      "outputs": [
        {
          "output_type": "stream",
          "text": [
            "Test set accuracy of LR model:  0.8791666666666667\n",
            "The y intercept: [ 0.16327263  0.6042958  -0.76756843]\n"
          ],
          "name": "stdout"
        },
        {
          "output_type": "execute_result",
          "data": {
            "text/html": [
              "<div>\n",
              "<style scoped>\n",
              "    .dataframe tbody tr th:only-of-type {\n",
              "        vertical-align: middle;\n",
              "    }\n",
              "\n",
              "    .dataframe tbody tr th {\n",
              "        vertical-align: top;\n",
              "    }\n",
              "\n",
              "    .dataframe thead th {\n",
              "        text-align: right;\n",
              "    }\n",
              "</style>\n",
              "<table border=\"1\" class=\"dataframe\">\n",
              "  <thead>\n",
              "    <tr style=\"text-align: right;\">\n",
              "      <th></th>\n",
              "      <th>0</th>\n",
              "      <th>1</th>\n",
              "      <th>2</th>\n",
              "    </tr>\n",
              "  </thead>\n",
              "  <tbody>\n",
              "    <tr>\n",
              "      <th>0</th>\n",
              "      <td>0.094078</td>\n",
              "      <td>0.001827</td>\n",
              "      <td>-0.095906</td>\n",
              "    </tr>\n",
              "    <tr>\n",
              "      <th>1</th>\n",
              "      <td>1.339778</td>\n",
              "      <td>0.748075</td>\n",
              "      <td>-2.087852</td>\n",
              "    </tr>\n",
              "    <tr>\n",
              "      <th>2</th>\n",
              "      <td>-0.339930</td>\n",
              "      <td>-0.190234</td>\n",
              "      <td>0.530165</td>\n",
              "    </tr>\n",
              "    <tr>\n",
              "      <th>3</th>\n",
              "      <td>-0.127334</td>\n",
              "      <td>0.013989</td>\n",
              "      <td>0.113345</td>\n",
              "    </tr>\n",
              "    <tr>\n",
              "      <th>4</th>\n",
              "      <td>0.148889</td>\n",
              "      <td>0.295910</td>\n",
              "      <td>-0.444799</td>\n",
              "    </tr>\n",
              "    <tr>\n",
              "      <th>5</th>\n",
              "      <td>0.021171</td>\n",
              "      <td>-0.031812</td>\n",
              "      <td>0.010641</td>\n",
              "    </tr>\n",
              "    <tr>\n",
              "      <th>6</th>\n",
              "      <td>-0.022820</td>\n",
              "      <td>0.029337</td>\n",
              "      <td>-0.006517</td>\n",
              "    </tr>\n",
              "    <tr>\n",
              "      <th>7</th>\n",
              "      <td>0.164088</td>\n",
              "      <td>0.603012</td>\n",
              "      <td>-0.767100</td>\n",
              "    </tr>\n",
              "    <tr>\n",
              "      <th>8</th>\n",
              "      <td>0.899791</td>\n",
              "      <td>1.165564</td>\n",
              "      <td>-2.065355</td>\n",
              "    </tr>\n",
              "    <tr>\n",
              "      <th>9</th>\n",
              "      <td>-0.199968</td>\n",
              "      <td>-1.891617</td>\n",
              "      <td>2.091585</td>\n",
              "    </tr>\n",
              "    <tr>\n",
              "      <th>10</th>\n",
              "      <td>-0.580926</td>\n",
              "      <td>-0.221923</td>\n",
              "      <td>0.802848</td>\n",
              "    </tr>\n",
              "  </tbody>\n",
              "</table>\n",
              "</div>"
            ],
            "text/plain": [
              "           0         1         2\n",
              "0   0.094078  0.001827 -0.095906\n",
              "1   1.339778  0.748075 -2.087852\n",
              "2  -0.339930 -0.190234  0.530165\n",
              "3  -0.127334  0.013989  0.113345\n",
              "4   0.148889  0.295910 -0.444799\n",
              "5   0.021171 -0.031812  0.010641\n",
              "6  -0.022820  0.029337 -0.006517\n",
              "7   0.164088  0.603012 -0.767100\n",
              "8   0.899791  1.165564 -2.065355\n",
              "9  -0.199968 -1.891617  2.091585\n",
              "10 -0.580926 -0.221923  0.802848"
            ]
          },
          "metadata": {
            "tags": []
          },
          "execution_count": 144
        }
      ]
    },
    {
      "cell_type": "code",
      "metadata": {
        "colab": {
          "base_uri": "https://localhost:8080/"
        },
        "id": "loV_jkbLjbZy",
        "outputId": "64e9b04c-dd47-4680-ff32-174b3071b18c"
      },
      "source": [
        "cm = metrics.confusion_matrix(y_test, y_test_pred)\r\n",
        "print(cm)"
      ],
      "execution_count": 145,
      "outputs": [
        {
          "output_type": "stream",
          "text": [
            "[[  0   1   0]\n",
            " [  0 404  10]\n",
            " [  0  47  18]]\n"
          ],
          "name": "stdout"
        }
      ]
    },
    {
      "cell_type": "code",
      "metadata": {
        "colab": {
          "base_uri": "https://localhost:8080/"
        },
        "id": "xGUy5WGbgEFQ",
        "outputId": "345e091b-c1fe-403c-bf45-516846cb8d32"
      },
      "source": [
        "print(\"Classification Report:\\n\", metrics.classification_report(y_test,y_test_pred))"
      ],
      "execution_count": 103,
      "outputs": [
        {
          "output_type": "stream",
          "text": [
            "Classification Report:\n",
            "               precision    recall  f1-score   support\n",
            "\n",
            "           0       0.00      0.00      0.00         1\n",
            "           1       0.89      0.98      0.93       414\n",
            "           2       0.64      0.28      0.39        65\n",
            "\n",
            "    accuracy                           0.88       480\n",
            "   macro avg       0.51      0.42      0.44       480\n",
            "weighted avg       0.86      0.88      0.86       480\n",
            "\n"
          ],
          "name": "stdout"
        },
        {
          "output_type": "stream",
          "text": [
            "/usr/local/lib/python3.6/dist-packages/sklearn/metrics/_classification.py:1272: UndefinedMetricWarning: Precision and F-score are ill-defined and being set to 0.0 in labels with no predicted samples. Use `zero_division` parameter to control this behavior.\n",
            "  _warn_prf(average, modifier, msg_start, len(result))\n"
          ],
          "name": "stderr"
        }
      ]
    },
    {
      "cell_type": "markdown",
      "metadata": {
        "id": "R2ptWqJCCJlq"
      },
      "source": [
        "## Another Classification Model"
      ]
    },
    {
      "cell_type": "code",
      "metadata": {
        "id": "0sD4RaShCJlq"
      },
      "source": [
        "# Create another classification model and fit the variables to it\n"
      ],
      "execution_count": 95,
      "outputs": []
    },
    {
      "cell_type": "code",
      "metadata": {
        "id": "9u6nwSTxCJlq"
      },
      "source": [
        "# Print out evaluation metrics that you think are necessary\n"
      ],
      "execution_count": 96,
      "outputs": []
    },
    {
      "cell_type": "markdown",
      "metadata": {
        "id": "-vVmVPwXCJlq"
      },
      "source": [
        "What did you notice different between your chosen model and the logistic regression? Why is that?\n",
        "\n",
        "When you are done writing in the cell underneath, run the cell or press shift+enter (shift+return for Macs)"
      ]
    },
    {
      "cell_type": "markdown",
      "metadata": {
        "id": "HAg-OA7nCJlq"
      },
      "source": [
        "Enter Answer Here:"
      ]
    },
    {
      "cell_type": "markdown",
      "metadata": {
        "id": "Y2d958W7CJlq"
      },
      "source": [
        "# Explanation and Summary"
      ]
    },
    {
      "cell_type": "markdown",
      "metadata": {
        "id": "fpXNX2tNCJlq"
      },
      "source": [
        "Write a summary on what you did with this data set and why you did it. (Should be about a paragraph or two) Please include why you chose your prompt/question, the importance of your visualization, and the results of the modeling.\n",
        "\n",
        "Again, when you are done writing in the cell underneath, run the cell or press shift+enter (shift+return for Macs)"
      ]
    },
    {
      "cell_type": "markdown",
      "metadata": {
        "id": "wztlF054CJlq"
      },
      "source": [
        "Enter Answer Here:\r\n",
        "\r\n",
        "The idea of this project is to create a tool that can assist consumers in determining the highest quality Vino Verde. When information like the ones provided by this algorithm is not available, consumers tend to rely on price as a measure of quality, which could lead to subpar decisions.\r\n",
        "\r\n",
        "Went about this in 2 ways.\r\n",
        "\r\n",
        "Firstly, treat the wine quality (1-10) as a continuous variable.\r\n",
        "\r\n",
        "\r\n",
        "Then, I converted the wine quality into 3 groups and treated it as a categorial variable.\r\n",
        "\r\n",
        "\r\n",
        "\r\n"
      ]
    },
    {
      "cell_type": "markdown",
      "metadata": {
        "id": "sZf0qc-nCJlr"
      },
      "source": [
        "# Conceptual Questions (OPTIONAL PLEASE READ DESCRIPTION)\n",
        "\n",
        "These questions are meant for us to gauge your math knowledge so that we can tailor the curiculum to the appropriate level. Some of these questions may be way above your level and it is **completely fine** for you to not know how to do any of them. I would just like to see that you try to do as many as you can. It will **not** be counted against you if you can't solve any of them. I would just ask that you **write a short comment** on what you did not understand for each question.\n",
        "\n",
        "If you are interested in being a PM or team lead, not completing these questions won't count against you but **may help you**.\n",
        "\n",
        "If you need any help at all feel free to reach out to Jason Liu at (jl9724@stern.nyu.edu).\n",
        "\n",
        "Questions developed with assistance from Derek Huang."
      ]
    },
    {
      "cell_type": "markdown",
      "metadata": {
        "id": "F49YXcEnCJlr"
      },
      "source": [
        "1. Suppose we have a set of points $ y_1, \\ldots y_N $, where each $ y_k $ is a real number. Define the loss/cost function $ J $ such that for real $ \\kappa $,\n",
        "\n",
        "   $$ J(\\kappa) = \\sum_{k = 1}^{N}(y_k - \\kappa)^2 $$\n",
        "\n",
        "   Show that $ J $ is uniquely minimized by $ \\hat{\\kappa} $, where\n",
        "\n",
        "   $$ \\hat{\\kappa} = \\frac{1}{N}\\sum_{k = 1}^{N}y_k $$\n",
        "\n",
        "   In other words, show that $ \\hat{\\kappa} $ is the mean of the elements $ y_1, \\ldots y_N $.\n",
        "   \n",
        "   *Hint*. Use the fact that $ J $ is strictly convex + has a unique minimum, so the derivative of $ J $ at $ \\hat{\\kappa} $ is zero."
      ]
    },
    {
      "cell_type": "markdown",
      "metadata": {
        "id": "V32uHmmYCJlr"
      },
      "source": [
        "2. Suppose we have a set of points $ y_1, \\ldots y_N $, where each $ y_k $ is an independent realization of the random variable $ Y \\sim \\mathrm{Bernoulli}(p) $ and is either $ 0 $ or $ 1 $ In other words, the data is the result of $ N $ coin flips, where heads is $ 1 $, tails is $ 0 $, and the probability of getting heads is $ p $. \n",
        "\n",
        "   Since each $ y_k $ is independently sampled, the joint likelihood for the data is\n",
        "\n",
        "   $$ \\ell(\\theta) = \\prod_{k = 1}^N\\theta^{y_k}(1 - \\theta)^{1 - y_k} $$\n",
        "\n",
        "   Define $ N_+ $ as the number of points with label $ 1 $ and $ N_- $ as the number of points with label $ 0 $. Necessarily $ N_+ + N_- = N $.\n",
        "   \n",
        "   Show that the maximum likelihood estimate of $ p $, $ \\hat{\\theta} $, is such that\n",
        "\n",
        "   $$ \\hat{\\theta} = \\frac{N_+}{N_+ + N_-} $$\n",
        "\n",
        "   *Hint*. $ \\ell $ has a unique maximum, which is $ \\hat{\\theta} $. Use the fact that $ \\ell(\\theta) = \\theta^{N_+}(1 - \\theta)^{N_-} $ and the fact that the derivative of $ \\ell $ at $ \\hat{\\theta} $ is zero."
      ]
    },
    {
      "cell_type": "markdown",
      "metadata": {
        "id": "xTTe-_58CJlr"
      },
      "source": [
        "### This question tests some basic linear algebra. It is easier than it looks so no hint is provided.\n",
        "\n",
        "3. Suppose we have a real matrix $ \\mathbf{X} \\in \\mathbb{R}^{N \\times n} $, where each row $ k $ of the matrix corresponds to a single transposed data example $ \\mathbf{x}_k^\\top $. Assuming that each row $ \\mathbf{x}_k^\\top $ is independently sampled from the same vector-valued continuous distribution, the sample mean $ \\bar{\\mathbf{x}} \\in \\mathbb{R}^n $ of the data points is such that\n",
        "\n",
        "   $$ \\bar{\\mathbf{x}} = \\frac{1}{N}\\mathbf{X}^\\top\\mathbf{1} = \\frac{1}{N}\\begin{bmatrix} \\ \\mathbf{x}_1 & \\ldots & \\mathbf{x}_N \\ \\end{bmatrix}\\mathbf{1} = \\frac{1}{N}\\sum_{k = 1}^N\\mathbf{x}_k $$\n",
        "\n",
        "   Here $ \\mathbf{1} \\in \\mathbb{R}^N $, the $ \\mathbb{R}^N $ vector of all $ 1 $s.\n",
        "   \n",
        "   Show that the centered matrix $ \\tilde{\\mathbf{X}} $, where $ \\tilde{\\mathbf{X}} = \\mathbf{X} - \\mathbf{1}\\bar{\\mathbf{x}}^\\top $, may be equivalently written as the product of the centering matrix and $ \\mathbf{X} $, i.e. that\n",
        "\n",
        "   $$ \\tilde{\\mathbf{X}} = \\left(\\mathbf{I} - \\frac{1}{N} \\mathbf{11}^\\top\\right)\\mathbf{X} $$\n",
        "\n",
        "   Here $ \\mathbf{I} $ is the $ N \\times N $ identity matrix."
      ]
    }
  ]
}